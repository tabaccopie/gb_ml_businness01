{
 "cells": [
  {
   "cell_type": "markdown",
   "metadata": {},
   "source": [
    "## Домашнее задание\n",
    "1. взять любой набор данных для бинарной классификации (можно скачать один из модельных с https://archive.ics.uci.edu/ml/datasets.php)\n",
    "2. сделать feature engineering\n",
    "3. обучить любой классификатор (какой вам нравится)\n",
    "4. далее разделить ваш набор данных на два множества: P (positives) и U (unlabeled). Причем брать нужно не все положительные (класс 1) примеры, а только лишь часть\n",
    "5. применить random negative sampling для построения классификатора в новых условиях\n",
    "6. сравнить качество с решением из пункта 4 (построить отчет - таблицу метрик)\n",
    "7. поэкспериментировать с долей P на шаге 5 (как будет меняться качество модели при уменьшении/увеличении размера P)"
   ]
  },
  {
   "cell_type": "markdown",
   "metadata": {},
   "source": [
    "https://archive.ics.uci.edu/ml/datasets/Ionosphere"
   ]
  },
  {
   "cell_type": "code",
   "execution_count": 130,
   "metadata": {},
   "outputs": [
    {
     "data": {
      "text/html": [
       "<div>\n",
       "<style scoped>\n",
       "    .dataframe tbody tr th:only-of-type {\n",
       "        vertical-align: middle;\n",
       "    }\n",
       "\n",
       "    .dataframe tbody tr th {\n",
       "        vertical-align: top;\n",
       "    }\n",
       "\n",
       "    .dataframe thead th {\n",
       "        text-align: right;\n",
       "    }\n",
       "</style>\n",
       "<table border=\"1\" class=\"dataframe\">\n",
       "  <thead>\n",
       "    <tr style=\"text-align: right;\">\n",
       "      <th></th>\n",
       "      <th>0</th>\n",
       "      <th>1</th>\n",
       "      <th>2</th>\n",
       "      <th>3</th>\n",
       "      <th>4</th>\n",
       "      <th>5</th>\n",
       "      <th>6</th>\n",
       "      <th>7</th>\n",
       "      <th>8</th>\n",
       "      <th>9</th>\n",
       "      <th>...</th>\n",
       "      <th>25</th>\n",
       "      <th>26</th>\n",
       "      <th>27</th>\n",
       "      <th>28</th>\n",
       "      <th>29</th>\n",
       "      <th>30</th>\n",
       "      <th>31</th>\n",
       "      <th>32</th>\n",
       "      <th>33</th>\n",
       "      <th>34</th>\n",
       "    </tr>\n",
       "  </thead>\n",
       "  <tbody>\n",
       "    <tr>\n",
       "      <th>0</th>\n",
       "      <td>1</td>\n",
       "      <td>0</td>\n",
       "      <td>0.99539</td>\n",
       "      <td>-0.05889</td>\n",
       "      <td>0.85243</td>\n",
       "      <td>0.02306</td>\n",
       "      <td>0.83398</td>\n",
       "      <td>-0.37708</td>\n",
       "      <td>1.00000</td>\n",
       "      <td>0.03760</td>\n",
       "      <td>...</td>\n",
       "      <td>-0.51171</td>\n",
       "      <td>0.41078</td>\n",
       "      <td>-0.46168</td>\n",
       "      <td>0.21266</td>\n",
       "      <td>-0.34090</td>\n",
       "      <td>0.42267</td>\n",
       "      <td>-0.54487</td>\n",
       "      <td>0.18641</td>\n",
       "      <td>-0.45300</td>\n",
       "      <td>g</td>\n",
       "    </tr>\n",
       "    <tr>\n",
       "      <th>1</th>\n",
       "      <td>1</td>\n",
       "      <td>0</td>\n",
       "      <td>1.00000</td>\n",
       "      <td>-0.18829</td>\n",
       "      <td>0.93035</td>\n",
       "      <td>-0.36156</td>\n",
       "      <td>-0.10868</td>\n",
       "      <td>-0.93597</td>\n",
       "      <td>1.00000</td>\n",
       "      <td>-0.04549</td>\n",
       "      <td>...</td>\n",
       "      <td>-0.26569</td>\n",
       "      <td>-0.20468</td>\n",
       "      <td>-0.18401</td>\n",
       "      <td>-0.19040</td>\n",
       "      <td>-0.11593</td>\n",
       "      <td>-0.16626</td>\n",
       "      <td>-0.06288</td>\n",
       "      <td>-0.13738</td>\n",
       "      <td>-0.02447</td>\n",
       "      <td>b</td>\n",
       "    </tr>\n",
       "    <tr>\n",
       "      <th>2</th>\n",
       "      <td>1</td>\n",
       "      <td>0</td>\n",
       "      <td>1.00000</td>\n",
       "      <td>-0.03365</td>\n",
       "      <td>1.00000</td>\n",
       "      <td>0.00485</td>\n",
       "      <td>1.00000</td>\n",
       "      <td>-0.12062</td>\n",
       "      <td>0.88965</td>\n",
       "      <td>0.01198</td>\n",
       "      <td>...</td>\n",
       "      <td>-0.40220</td>\n",
       "      <td>0.58984</td>\n",
       "      <td>-0.22145</td>\n",
       "      <td>0.43100</td>\n",
       "      <td>-0.17365</td>\n",
       "      <td>0.60436</td>\n",
       "      <td>-0.24180</td>\n",
       "      <td>0.56045</td>\n",
       "      <td>-0.38238</td>\n",
       "      <td>g</td>\n",
       "    </tr>\n",
       "  </tbody>\n",
       "</table>\n",
       "<p>3 rows × 35 columns</p>\n",
       "</div>"
      ],
      "text/plain": [
       "   0   1        2        3        4        5        6        7        8   \\\n",
       "0   1   0  0.99539 -0.05889  0.85243  0.02306  0.83398 -0.37708  1.00000   \n",
       "1   1   0  1.00000 -0.18829  0.93035 -0.36156 -0.10868 -0.93597  1.00000   \n",
       "2   1   0  1.00000 -0.03365  1.00000  0.00485  1.00000 -0.12062  0.88965   \n",
       "\n",
       "        9   ...       25       26       27       28       29       30  \\\n",
       "0  0.03760  ... -0.51171  0.41078 -0.46168  0.21266 -0.34090  0.42267   \n",
       "1 -0.04549  ... -0.26569 -0.20468 -0.18401 -0.19040 -0.11593 -0.16626   \n",
       "2  0.01198  ... -0.40220  0.58984 -0.22145  0.43100 -0.17365  0.60436   \n",
       "\n",
       "        31       32       33  34  \n",
       "0 -0.54487  0.18641 -0.45300   g  \n",
       "1 -0.06288 -0.13738 -0.02447   b  \n",
       "2 -0.24180  0.56045 -0.38238   g  \n",
       "\n",
       "[3 rows x 35 columns]"
      ]
     },
     "execution_count": 130,
     "metadata": {},
     "output_type": "execute_result"
    }
   ],
   "source": [
    "import pandas as pd\n",
    "import numpy as np\n",
    "import seaborn as sns\n",
    "\n",
    "df = pd.read_csv(\"ionosphere.data\", header=None)\n",
    "df.head(3)"
   ]
  },
  {
   "cell_type": "code",
   "execution_count": 131,
   "metadata": {},
   "outputs": [
    {
     "data": {
      "text/plain": [
       "(351, 35)"
      ]
     },
     "execution_count": 131,
     "metadata": {},
     "output_type": "execute_result"
    }
   ],
   "source": [
    "df.shape"
   ]
  },
  {
   "cell_type": "code",
   "execution_count": 132,
   "metadata": {},
   "outputs": [
    {
     "data": {
      "text/plain": [
       "g    225\n",
       "b    126\n",
       "Name: 34, dtype: int64"
      ]
     },
     "execution_count": 132,
     "metadata": {},
     "output_type": "execute_result"
    }
   ],
   "source": [
    "df.iloc[:, -1].value_counts()"
   ]
  },
  {
   "cell_type": "code",
   "execution_count": 133,
   "metadata": {},
   "outputs": [],
   "source": [
    "df[34].replace(('g', 'b'), (1, 0), inplace=True)"
   ]
  },
  {
   "cell_type": "code",
   "execution_count": 134,
   "metadata": {},
   "outputs": [
    {
     "data": {
      "text/plain": [
       "1    225\n",
       "0    126\n",
       "Name: 34, dtype: int64"
      ]
     },
     "execution_count": 134,
     "metadata": {},
     "output_type": "execute_result"
    }
   ],
   "source": [
    "df.iloc[:, -1].value_counts()"
   ]
  },
  {
   "cell_type": "code",
   "execution_count": 135,
   "metadata": {},
   "outputs": [
    {
     "data": {
      "text/plain": [
       "<AxesSubplot:>"
      ]
     },
     "execution_count": 135,
     "metadata": {},
     "output_type": "execute_result"
    },
    {
     "data": {
      "image/png": "[encoded data removed]",
      "text/plain": [
       "<Figure size 432x288 with 2 Axes>"
      ]
     },
     "metadata": {
      "needs_background": "light"
     },
     "output_type": "display_data"
    }
   ],
   "source": [
    "colours = ['#FF8000', '#80FF00']    \n",
    "sns.heatmap(df[df.columns].isnull(), cmap=sns.color_palette(colours))"
   ]
  },
  {
   "cell_type": "markdown",
   "metadata": {},
   "source": [
    "Отсутствующих значений в датасете нет"
   ]
  },
  {
   "cell_type": "code",
   "execution_count": 136,
   "metadata": {},
   "outputs": [],
   "source": [
    "# разобьем на тренировочную и тестовую\n",
    "\n",
    "from sklearn.model_selection import train_test_split\n",
    "\n",
    "x_data = df.iloc[:,:-1]\n",
    "y_data = df.iloc[:,-1]\n",
    "\n",
    "x_train, x_test, y_train, y_test = train_test_split(x_data, y_data, test_size=0.2, random_state=7)"
   ]
  },
  {
   "cell_type": "code",
   "execution_count": 137,
   "metadata": {},
   "outputs": [],
   "source": [
    "from lightgbm import LGBMClassifier\n",
    "\n",
    "model = LGBMClassifier(random_state=7)\n",
    "\n",
    "model.fit(x_train, y_train)\n",
    "y_predict = model.predict(x_test)"
   ]
  },
  {
   "cell_type": "code",
   "execution_count": 138,
   "metadata": {},
   "outputs": [
    {
     "name": "stdout",
     "output_type": "stream",
     "text": [
      "Classification results:\n",
      "f1: 95.92%\n",
      "roc: 92.44%\n",
      "recall: 97.92%\n",
      "precision: 94.00%\n"
     ]
    },
    {
     "data": {
      "text/plain": [
       "(0.9591836734693877, 0.9243659420289855, 0.9791666666666666, 0.94)"
      ]
     },
     "execution_count": 138,
     "metadata": {},
     "output_type": "execute_result"
    }
   ],
   "source": [
    "from sklearn.metrics import recall_score, precision_score, roc_auc_score, accuracy_score, f1_score\n",
    "# Функция оценки качества \n",
    "\n",
    "def evaluate_results(y_test, y_predict):\n",
    "    print('Classification results:')\n",
    "    f1 = f1_score(y_test, y_predict)\n",
    "    print(\"f1: %.2f%%\" % (f1 * 100.0)) \n",
    "    roc = roc_auc_score(y_test, y_predict)\n",
    "    print(\"roc: %.2f%%\" % (roc * 100.0)) \n",
    "    rec = recall_score(y_test, y_predict, average='binary')\n",
    "    print(\"recall: %.2f%%\" % (rec * 100.0)) \n",
    "    prc = precision_score(y_test, y_predict, average='binary')\n",
    "    print(\"precision: %.2f%%\" % (prc * 100.0)) \n",
    "    metrics = (f1, roc, rec, prc)\n",
    "    \n",
    "    return metrics\n",
    "\n",
    "# Оценка полученных результатов\n",
    "    \n",
    "results = evaluate_results(y_test, y_predict)\n",
    "results"
   ]
  },
  {
   "cell_type": "markdown",
   "metadata": {},
   "source": [
    "### PU learning"
   ]
  },
  {
   "cell_type": "code",
   "execution_count": 139,
   "metadata": {},
   "outputs": [],
   "source": [
    "def pu_learn(p_num):\n",
    "    \n",
    "    mod_df = df.copy()\n",
    "    pos_ind = np.where(mod_df.iloc[:,-1].values == 1)[0]\n",
    "    np.random.shuffle(pos_ind)\n",
    "    pos_sample_len = int(np.ceil(p_num * len(pos_ind)))\n",
    "    pos_sample = pos_ind[:pos_sample_len]\n",
    "\n",
    "    # Добавим столбец новой целевой переменной class_test, где 1 - выбранные ранее позитивные значения (P), -1 - остальные (U)\n",
    "    mod_df['class_test'] = -1\n",
    "    mod_df.loc[pos_sample,'class_test'] = 1\n",
    "    print('target variable:\\n', mod_df.iloc[:,-1].value_counts())\n",
    "    \n",
    "    # random negative sampling\n",
    "    mod_df = mod_df.sample(frac=1)\n",
    "    neg_sample = mod_df[mod_df['class_test']==-1][:len(mod_df[mod_df['class_test']==1])]\n",
    "    sample_test = mod_df[mod_df['class_test']==-1][len(mod_df[mod_df['class_test']==1]):]\n",
    "    pos_sample = mod_df[mod_df['class_test']==1]\n",
    "    sample_train = pd.concat([neg_sample, pos_sample]).sample(frac=1)\n",
    "\n",
    "    # Обучение модели и получение предсказания\n",
    "\n",
    "    model = LGBMClassifier(random_state=7)\n",
    "\n",
    "    model.fit(sample_train.iloc[:,:-2].values, \n",
    "                sample_train.iloc[:,-2].values)\n",
    "    y_predict = model.predict(sample_test.iloc[:,:-2].values)\n",
    "    y_test = sample_test.iloc[:,-2].values\n",
    "    \n",
    "    return y_test, y_predict"
   ]
  },
  {
   "cell_type": "code",
   "execution_count": 140,
   "metadata": {},
   "outputs": [
    {
     "name": "stdout",
     "output_type": "stream",
     "text": [
      "target variable:\n",
      " -1    328\n",
      " 1     23\n",
      "Name: class_test, dtype: int64\n",
      "Classification results:\n",
      "f1: 82.82%\n",
      "roc: 70.79%\n",
      "recall: 94.12%\n",
      "precision: 73.95%\n"
     ]
    },
    {
     "data": {
      "text/plain": [
       "(0.8282352941176471, 0.707876370887338, 0.9411764705882353, 0.7394957983193278)"
      ]
     },
     "execution_count": 140,
     "metadata": {},
     "output_type": "execute_result"
    }
   ],
   "source": [
    "# P = 10%\n",
    "y_test, y_predict = pu_learn(0.1)\n",
    "results_10  = evaluate_results(y_test, y_predict)\n",
    "results_10"
   ]
  },
  {
   "cell_type": "code",
   "execution_count": 141,
   "metadata": {},
   "outputs": [
    {
     "name": "stdout",
     "output_type": "stream",
     "text": [
      "target variable:\n",
      " -1    317\n",
      " 1     34\n",
      "Name: class_test, dtype: int64\n",
      "Classification results:\n",
      "f1: 87.15%\n",
      "roc: 76.78%\n",
      "recall: 99.43%\n",
      "precision: 77.58%\n"
     ]
    },
    {
     "data": {
      "text/plain": [
       "(0.871536523929471, 0.7677686386164715, 0.9942528735632183, 0.7757847533632287)"
      ]
     },
     "execution_count": 141,
     "metadata": {},
     "output_type": "execute_result"
    }
   ],
   "source": [
    "# P = 15%\n",
    "y_test, y_predict = pu_learn(0.15)\n",
    "results_15  = evaluate_results(y_test, y_predict)\n",
    "results_15"
   ]
  },
  {
   "cell_type": "code",
   "execution_count": 142,
   "metadata": {},
   "outputs": [
    {
     "name": "stdout",
     "output_type": "stream",
     "text": [
      "target variable:\n",
      " -1    306\n",
      " 1     45\n",
      "Name: class_test, dtype: int64\n",
      "Classification results:\n",
      "f1: 90.00%\n",
      "roc: 84.26%\n",
      "recall: 98.71%\n",
      "precision: 82.70%\n"
     ]
    },
    {
     "data": {
      "text/plain": [
       "(0.9, 0.8426049908703591, 0.9870967741935484, 0.827027027027027)"
      ]
     },
     "execution_count": 142,
     "metadata": {},
     "output_type": "execute_result"
    }
   ],
   "source": [
    "# P = 20%\n",
    "y_test, y_predict = pu_learn(0.2)\n",
    "results_20  = evaluate_results(y_test, y_predict)\n",
    "results_20"
   ]
  },
  {
   "cell_type": "code",
   "execution_count": 143,
   "metadata": {},
   "outputs": [
    {
     "name": "stdout",
     "output_type": "stream",
     "text": [
      "target variable:\n",
      " -1    294\n",
      " 1     57\n",
      "Name: class_test, dtype: int64\n",
      "Classification results:\n",
      "f1: 90.00%\n",
      "roc: 87.25%\n",
      "recall: 95.45%\n",
      "precision: 85.14%\n"
     ]
    },
    {
     "data": {
      "text/plain": [
       "(0.9, 0.8725108225108225, 0.9545454545454546, 0.8513513513513513)"
      ]
     },
     "execution_count": 143,
     "metadata": {},
     "output_type": "execute_result"
    }
   ],
   "source": [
    "# P = 25%\n",
    "y_test, y_predict = pu_learn(0.25)\n",
    "results_25  = evaluate_results(y_test, y_predict)\n",
    "results_25"
   ]
  },
  {
   "cell_type": "code",
   "execution_count": 144,
   "metadata": {},
   "outputs": [
    {
     "name": "stdout",
     "output_type": "stream",
     "text": [
      "target variable:\n",
      " -1    283\n",
      " 1     68\n",
      "Name: class_test, dtype: int64\n",
      "Classification results:\n",
      "f1: 90.98%\n",
      "roc: 87.22%\n",
      "recall: 99.18%\n",
      "precision: 84.03%\n"
     ]
    },
    {
     "data": {
      "text/plain": [
       "(0.9097744360902256,\n",
       " 0.8722457253657677,\n",
       " 0.9918032786885246,\n",
       " 0.8402777777777778)"
      ]
     },
     "execution_count": 144,
     "metadata": {},
     "output_type": "execute_result"
    }
   ],
   "source": [
    "# P = 30%\n",
    "y_test, y_predict = pu_learn(0.3)\n",
    "results_30  = evaluate_results(y_test, y_predict)\n",
    "results_30"
   ]
  },
  {
   "cell_type": "code",
   "execution_count": 145,
   "metadata": {},
   "outputs": [
    {
     "name": "stdout",
     "output_type": "stream",
     "text": [
      "target variable:\n",
      " -1    272\n",
      " 1     79\n",
      "Name: class_test, dtype: int64\n",
      "Classification results:\n",
      "f1: 91.48%\n",
      "roc: 89.51%\n",
      "recall: 99.03%\n",
      "precision: 85.00%\n"
     ]
    },
    {
     "data": {
      "text/plain": [
       "(0.9147982062780268, 0.8951456310679613, 0.9902912621359223, 0.85)"
      ]
     },
     "execution_count": 145,
     "metadata": {},
     "output_type": "execute_result"
    }
   ],
   "source": [
    "# P = 35%\n",
    "y_test, y_predict = pu_learn(0.35)\n",
    "results_35  = evaluate_results(y_test, y_predict)\n",
    "results_35"
   ]
  },
  {
   "cell_type": "code",
   "execution_count": 146,
   "metadata": {},
   "outputs": [
    {
     "name": "stdout",
     "output_type": "stream",
     "text": [
      "target variable:\n",
      " -1    261\n",
      " 1     90\n",
      "Name: class_test, dtype: int64\n",
      "Classification results:\n",
      "f1: 90.16%\n",
      "roc: 88.59%\n",
      "recall: 98.86%\n",
      "precision: 82.86%\n"
     ]
    },
    {
     "data": {
      "text/plain": [
       "(0.9015544041450777,\n",
       " 0.8858844468784228,\n",
       " 0.9886363636363636,\n",
       " 0.8285714285714286)"
      ]
     },
     "execution_count": 146,
     "metadata": {},
     "output_type": "execute_result"
    }
   ],
   "source": [
    "# P = 40%\n",
    "y_test, y_predict = pu_learn(0.4)\n",
    "results_40  = evaluate_results(y_test, y_predict)\n",
    "results_40"
   ]
  },
  {
   "cell_type": "code",
   "execution_count": 147,
   "metadata": {},
   "outputs": [
    {
     "data": {
      "text/html": [
       "<div>\n",
       "<style scoped>\n",
       "    .dataframe tbody tr th:only-of-type {\n",
       "        vertical-align: middle;\n",
       "    }\n",
       "\n",
       "    .dataframe tbody tr th {\n",
       "        vertical-align: top;\n",
       "    }\n",
       "\n",
       "    .dataframe thead th {\n",
       "        text-align: right;\n",
       "    }\n",
       "</style>\n",
       "<table border=\"1\" class=\"dataframe\">\n",
       "  <thead>\n",
       "    <tr style=\"text-align: right;\">\n",
       "      <th></th>\n",
       "      <th>f-score</th>\n",
       "      <th>roc-auc</th>\n",
       "      <th>recall</th>\n",
       "      <th>precision</th>\n",
       "    </tr>\n",
       "  </thead>\n",
       "  <tbody>\n",
       "    <tr>\n",
       "      <th>Base</th>\n",
       "      <td>0.959184</td>\n",
       "      <td>0.924366</td>\n",
       "      <td>0.979167</td>\n",
       "      <td>0.940000</td>\n",
       "    </tr>\n",
       "    <tr>\n",
       "      <th>P = 10%</th>\n",
       "      <td>0.828235</td>\n",
       "      <td>0.707876</td>\n",
       "      <td>0.941176</td>\n",
       "      <td>0.739496</td>\n",
       "    </tr>\n",
       "    <tr>\n",
       "      <th>P = 15%</th>\n",
       "      <td>0.871537</td>\n",
       "      <td>0.767769</td>\n",
       "      <td>0.994253</td>\n",
       "      <td>0.775785</td>\n",
       "    </tr>\n",
       "    <tr>\n",
       "      <th>P = 20%</th>\n",
       "      <td>0.900000</td>\n",
       "      <td>0.842605</td>\n",
       "      <td>0.987097</td>\n",
       "      <td>0.827027</td>\n",
       "    </tr>\n",
       "    <tr>\n",
       "      <th>P = 25%</th>\n",
       "      <td>0.900000</td>\n",
       "      <td>0.872511</td>\n",
       "      <td>0.954545</td>\n",
       "      <td>0.851351</td>\n",
       "    </tr>\n",
       "    <tr>\n",
       "      <th>P = 30%</th>\n",
       "      <td>0.909774</td>\n",
       "      <td>0.872246</td>\n",
       "      <td>0.991803</td>\n",
       "      <td>0.840278</td>\n",
       "    </tr>\n",
       "    <tr>\n",
       "      <th>P = 35%</th>\n",
       "      <td>0.914798</td>\n",
       "      <td>0.895146</td>\n",
       "      <td>0.990291</td>\n",
       "      <td>0.850000</td>\n",
       "    </tr>\n",
       "    <tr>\n",
       "      <th>P = 40%</th>\n",
       "      <td>0.901554</td>\n",
       "      <td>0.885884</td>\n",
       "      <td>0.988636</td>\n",
       "      <td>0.828571</td>\n",
       "    </tr>\n",
       "  </tbody>\n",
       "</table>\n",
       "</div>"
      ],
      "text/plain": [
       "          f-score   roc-auc    recall  precision\n",
       "Base     0.959184  0.924366  0.979167   0.940000\n",
       "P = 10%  0.828235  0.707876  0.941176   0.739496\n",
       "P = 15%  0.871537  0.767769  0.994253   0.775785\n",
       "P = 20%  0.900000  0.842605  0.987097   0.827027\n",
       "P = 25%  0.900000  0.872511  0.954545   0.851351\n",
       "P = 30%  0.909774  0.872246  0.991803   0.840278\n",
       "P = 35%  0.914798  0.895146  0.990291   0.850000\n",
       "P = 40%  0.901554  0.885884  0.988636   0.828571"
      ]
     },
     "execution_count": 147,
     "metadata": {},
     "output_type": "execute_result"
    }
   ],
   "source": [
    "all_metrics = (results, results_10, results_15, results_20, results_25, results_30, results_35, results_40)\n",
    "table_metrics = pd.DataFrame(list(all_metrics), \n",
    "            columns=[\"f-score\", \"roc-auc\", \"recall\", \"precision\"], \n",
    "            index=[\"Base\", \"P = 10%\", \"P = 15%\", \"P = 20%\", \"P = 25%\", \"P = 30%\", \"P = 35%\",\"P = 40%\"])\n",
    "\n",
    "table_metrics"
   ]
  },
  {
   "cell_type": "markdown",
   "metadata": {},
   "source": [
    "### Вывод: Прирост в качестве достигается при P = 20%, дальнейшее увеличение P дает минимальные приросты."
   ]
  }
 ],
 "metadata": {
  "interpreter": {
   "hash": "ca585555a2867b459a38eaf8b2b47956aef7a6f770e52f1f5dfa1f8f05e57688"
  },
  "kernelspec": {
   "display_name": "Python 3.9.5 64-bit",
   "language": "python",
   "name": "python3"
  },
  "language_info": {
   "codemirror_mode": {
    "name": "ipython",
    "version": 3
   },
   "file_extension": ".py",
   "mimetype": "text/x-python",
   "name": "python",
   "nbconvert_exporter": "python",
   "pygments_lexer": "ipython3",
   "version": "3.9.5"
  },
  "orig_nbformat": 4
 },
 "nbformat": 4,
 "nbformat_minor": 2
}
